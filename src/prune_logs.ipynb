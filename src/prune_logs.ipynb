{
 "cells": [
  {
   "cell_type": "code",
   "execution_count": 2,
   "metadata": {
    "collapsed": true
   },
   "outputs": [],
   "source": [
    "from IPython.core.display import display, HTML\n",
    "# display(HTML(\"<style>.container { width:90% !important; }</style>\"))"
   ]
  },
  {
   "cell_type": "code",
   "execution_count": 3,
   "metadata": {
    "collapsed": true
   },
   "outputs": [],
   "source": [
    "import pandas as pd\n",
    "import os\n",
    "import re\n",
    "import codecs\n",
    "from IPython.display import display\n",
    "from six.moves import cPickle as pickle\n",
    "import string\n",
    "from PIL import Image\n",
    "import numpy as np\n",
    "import h5py"
   ]
  },
  {
   "cell_type": "code",
   "execution_count": 4,
   "metadata": {
    "collapsed": true
   },
   "outputs": [],
   "source": [
    "width = None\n",
    "pd.options.display.max_rows = 600\n",
    "pd.options.display.max_columns = width\n",
    "pd.options.display.max_colwidth = 600\n",
    "pd.options.display.width = width\n",
    "pd.options.display.max_seq_items = None\n",
    "pd.options.display.expand_frame_repr = False\n",
    "pd.options.display.colheader_justify = 'left'"
   ]
  },
  {
   "cell_type": "code",
   "execution_count": 5,
   "metadata": {},
   "outputs": [
    {
     "name": "stderr",
     "output_type": "stream",
     "text": [
      "Using TensorFlow backend.\n"
     ]
    }
   ],
   "source": [
    "import data_commons as dtc\n",
    "import dl_commons as dlc\n",
    "import viz_commons as vc\n",
    "from viz_commons import VisualizeDir, DiffParams, VisualizeStep"
   ]
  },
  {
   "cell_type": "code",
   "execution_count": 13,
   "metadata": {},
   "outputs": [],
   "source": [
    "vd = VisualizeDir('./tb_metrics_dev/2017-11-19 21-31-52 PST noBins_3.1LSTM_2init_3OutMLP_3attMLPfull_1beta_0pLambda_regroupImage_i=2/store_3')"
   ]
  },
  {
   "cell_type": "code",
   "execution_count": 7,
   "metadata": {
    "scrolled": true
   },
   "outputs": [
    {
     "name": "stdout",
     "output_type": "stream",
     "text": [
      "Num Snapshots: 44\n",
      "Snapshots = [(1512, 1323.0), (3024, 2646.0), (4536, 3969.0), (6048, 5292.0), (7560, 6615.0), (9072, 7938.0), (10584, 9261.0), (12096, 10584.0), (13608, 11907.0), (15120, 13230.0), (16632, 14553.0), (18144, 15876.0), (19656, 17199.0), (21168, 18522.0), (22680, 19845.0), (24192, 21168.0), (25704, 22491.0), (27216, 23814.0), (28728, 25137.0), (30240, 26460.0), (31752, 27783.0), (33264, 29106.0), (36288, 31752.0), (39312, 34398.0), (39450, 34518.75), (39500, 34562.5), (40400, 35350.0), (40450, 35393.75), (40900, 35787.5), (40950, 35831.25), (41000, 35875.0), (41050, 35918.75), (41100, 35962.5), (41250, 36093.75), (41350, 36181.25), (41400, 36225.0), (41500, 36312.5), (41650, 36443.75), (41700, 36487.5), (41850, 36618.75), (41900, 36662.5), (41950, 36706.25), (42000, 36750.0), (42350, 37056.25)]\n"
     ]
    }
   ],
   "source": [
    "vd.view_snapshots()"
   ]
  },
  {
   "cell_type": "code",
   "execution_count": 15,
   "metadata": {},
   "outputs": [
    {
     "name": "stdout",
     "output_type": "stream",
     "text": [
      "num_epoch_steps = 42\n",
      "epoch_steps = [31770, 32829, 33888, 34947, 36006, 37065, 38124, 39183, 40242, 41301, 42360, 43419, 44478, 45537, 46596, 47655, 48714, 49773, 50832, 51891, 52950, 54009, 55068, 56127, 57186, 58245, 59304, 60363, 61422, 62481, 63540, 64599, 65658, 66717, 67776, 68835, 69894, 70953, 72012, 73071, 74130, 75189]\n"
     ]
    }
   ],
   "source": [
    "vd.view_steps()"
   ]
  },
  {
   "cell_type": "code",
   "execution_count": 8,
   "metadata": {
    "scrolled": false
   },
   "outputs": [
    {
     "name": "stdout",
     "output_type": "stream",
     "text": [
      "Nothing to Delete\n"
     ]
    }
   ],
   "source": [
    "# vd.prune_logs(save_epochs=1, dry_run=True)\n",
    "vd.prune_snapshots(keep_first=33888, keep_last=47655, dry_run=True)\n",
    "# vd.hyper"
   ]
  },
  {
   "cell_type": "code",
   "execution_count": 8,
   "metadata": {},
   "outputs": [
    {
     "data": {
      "text/plain": [
       "42251.42857142857"
      ]
     },
     "execution_count": 8,
     "metadata": {},
     "output_type": "execute_result"
    }
   ],
   "source": [
    "vd.unstandardize_step(36970)"
   ]
  },
  {
   "cell_type": "code",
   "execution_count": null,
   "metadata": {
    "collapsed": true
   },
   "outputs": [],
   "source": []
  }
 ],
 "metadata": {
  "kernelspec": {
   "display_name": "Python 2",
   "language": "python",
   "name": "python2"
  },
  "language_info": {
   "codemirror_mode": {
    "name": "ipython",
    "version": 2
   },
   "file_extension": ".py",
   "mimetype": "text/x-python",
   "name": "python",
   "nbconvert_exporter": "python",
   "pygments_lexer": "ipython2",
   "version": "2.7.14"
  }
 },
 "nbformat": 4,
 "nbformat_minor": 2
}
