{
 "cells": [
  {
   "cell_type": "markdown",
   "metadata": {},
   "source": [
    "# im2latex(S): Data Binning\n",
    "\n",
    "&copy; Copyright 2017 Sumeet S Singh\n",
    "\n",
    "    This file is part of im2latex solution by Sumeet S Singh.\n",
    "\n",
    "    This program is free software: you can redistribute it and/or modify\n",
    "    it under the terms of the Affero GNU General Public License as published by\n",
    "    the Free Software Foundation, either version 3 of the License, or\n",
    "    (at your option) any later version.\n",
    "\n",
    "    This program is distributed in the hope that it will be useful,\n",
    "    but WITHOUT ANY WARRANTY; without even the implied warranty of\n",
    "    MERCHANTABILITY or FITNESS FOR A PARTICULAR PURPOSE.  See the\n",
    "    Affero GNU General Public License for more details.\n",
    "\n",
    "    You should have received a copy of the Affero GNU General Public License\n",
    "    along with this program.  If not, see <http://www.gnu.org/licenses/>."
   ]
  },
  {
   "cell_type": "markdown",
   "metadata": {},
   "source": [
    "# What This Program Does\n",
    "This notebook curates the [im2latex-100k dataset from Harvard NLP](https://zenodo.org/record/56198#.WT4fsxMrJE4) from a [Harvard NLP project](http://lstm.seas.harvard.edu/latex/) generated using [their code]( https://github.com/Miffyli/im2latex-dataset).\n",
    "\n",
    "* This notebook loads the data set which are png files generated using [textogif](https://www.fourmilab.ch/webtools/textogif/textogif.html) (via the abovementioned sourcecode)\n",
    "* Checks and visualizes the data\n",
    "* Curates the data - whitening etc.\n",
    "* Converts it to numpy arrays and finally stores it as pickle files."
   ]
  },
  {
   "cell_type": "markdown",
   "metadata": {},
   "source": [
    "----\n",
    "## 'Binning' Training Data by Markup Sequence Length\n",
    "Next, we'll group the samples by length of the (tokenized) latex formulas. The idea is to standardize the sequence lengths to a small set of fixed lengths (by padding smaller neighboring sequences with a 'null' tokens at the end.). This will allow us to create equal length batches for RNN/LSTM training while minimizing wasted training cycles. The [Show, Attend and Tell paper](https://www.semanticscholar.org/paper/Show-Attend-and-Tell-Neural-Image-Caption-Generati-Xu-Ba/146f6f6ed688c905fb6e346ad02332efd5464616) suggests this approach. At every epoch, we'll randomly/uniformly draw batches from within each group. Then we'll randomize said batch-list and use it for the training epoch. At next epoch, we'll repeat the process. The larger our group-size, that much better randomness we'll get in the training sequence. However the downside of increasing group-size is more padding of sequence-lengths resulting in wasteful  (and worse; maybe even misleading) training cycles.\n",
    "\n",
    "-----"
   ]
  },
  {
   "cell_type": "code",
   "execution_count": 1,
   "metadata": {
    "cellView": "both",
    "colab": {
     "autoexec": {
      "startup": false,
      "wait_interval": 0
     }
    },
    "colab_type": "code",
    "collapsed": true,
    "id": "apJbCsBHl-2A",
    "scrolled": true
   },
   "outputs": [],
   "source": [
    "from __future__ import print_function\n",
    "import os\n",
    "import numpy as np\n",
    "from IPython.display import display, Image as ipImage\n",
    "import PIL\n",
    "from PIL import Image\n",
    "from scipy import ndimage\n",
    "from sklearn.linear_model import LogisticRegression\n",
    "from six.moves import cPickle as pickle\n",
    "from mpl_toolkits.axes_grid1 import ImageGrid\n",
    "import pandas as pd\n",
    "import matplotlib.pyplot as plt\n",
    "\n",
    "# Config the matplotlib backend as plotting inline in IPython\n",
    "%matplotlib inline"
   ]
  },
  {
   "cell_type": "code",
   "execution_count": 2,
   "metadata": {
    "collapsed": true,
    "scrolled": true
   },
   "outputs": [],
   "source": [
    "# pd.options.display.max_rows = 600\n",
    "pd.options.display.max_columns = 20\n",
    "pd.options.display.max_colwidth = 100\n",
    "pd.options.display.width = 160\n"
   ]
  },
  {
   "cell_type": "markdown",
   "metadata": {},
   "source": [
    "### Notebook Arguments\n",
    "Change the arguments below before you run the notebook."
   ]
  },
  {
   "cell_type": "code",
   "execution_count": 3,
   "metadata": {
    "collapsed": true
   },
   "outputs": [],
   "source": [
    "HYPER_batch_size = 56\n",
    "HYPER_bins=[0,30,40,50,60,70,80,90,110,150]\n",
    "# HYPER_bins = [0,150]\n",
    "data_folder = data_dir = '../data/dataset3'\n",
    "image_folder = image_dir = os.path.join(data_folder,'formula_images')\n",
    "raw_data_dir = os.path.join(data_folder, 'training_56')\n",
    "dump = True"
   ]
  },
  {
   "cell_type": "code",
   "execution_count": 4,
   "metadata": {},
   "outputs": [
    {
     "name": "stdout",
     "output_type": "stream",
     "text": [
      "Output Dir = ../data/dataset3/training_56\n"
     ]
    }
   ],
   "source": [
    "print('Output Dir = %s'%raw_data_dir)"
   ]
  },
  {
   "cell_type": "code",
   "execution_count": 5,
   "metadata": {
    "scrolled": true
   },
   "outputs": [
    {
     "data": {
      "text/plain": [
       "(93741, 10)"
      ]
     },
     "execution_count": 5,
     "metadata": {},
     "output_type": "execute_result"
    }
   ],
   "source": [
    "df_pruned = pd.read_pickle(os.path.join(data_folder, 'step3', 'df_pruned.pkl'))\n",
    "df_pruned.shape"
   ]
  },
  {
   "cell_type": "code",
   "execution_count": 6,
   "metadata": {
    "scrolled": true
   },
   "outputs": [
    {
     "data": {
      "text/html": [
       "<div>\n",
       "<style>\n",
       "    .dataframe thead tr:only-child th {\n",
       "        text-align: right;\n",
       "    }\n",
       "\n",
       "    .dataframe thead th {\n",
       "        text-align: left;\n",
       "    }\n",
       "\n",
       "    .dataframe tbody tr th {\n",
       "        vertical-align: top;\n",
       "    }\n",
       "</style>\n",
       "<table border=\"1\" class=\"dataframe\">\n",
       "  <thead>\n",
       "    <tr style=\"text-align: right;\">\n",
       "      <th></th>\n",
       "      <th>width</th>\n",
       "      <th>word2id_len</th>\n",
       "      <th>height</th>\n",
       "    </tr>\n",
       "  </thead>\n",
       "  <tbody>\n",
       "    <tr>\n",
       "      <th>width</th>\n",
       "      <td>1.000000</td>\n",
       "      <td>0.818235</td>\n",
       "      <td>0.224680</td>\n",
       "    </tr>\n",
       "    <tr>\n",
       "      <th>word2id_len</th>\n",
       "      <td>0.818235</td>\n",
       "      <td>1.000000</td>\n",
       "      <td>0.409761</td>\n",
       "    </tr>\n",
       "    <tr>\n",
       "      <th>height</th>\n",
       "      <td>0.224680</td>\n",
       "      <td>0.409761</td>\n",
       "      <td>1.000000</td>\n",
       "    </tr>\n",
       "  </tbody>\n",
       "</table>\n",
       "</div>"
      ],
      "text/plain": [
       "                width  word2id_len    height\n",
       "width        1.000000     0.818235  0.224680\n",
       "word2id_len  0.818235     1.000000  0.409761\n",
       "height       0.224680     0.409761  1.000000"
      ]
     },
     "execution_count": 6,
     "metadata": {},
     "output_type": "execute_result"
    }
   ],
   "source": [
    "df_pruned[['width', 'word2id_len', 'height']].corr()"
   ]
  },
  {
   "cell_type": "markdown",
   "metadata": {},
   "source": [
    "From the above correlation table we can clearly see the impact of pruning the outlier samples from our dataset: the correlation of word2id_len went up from ~0.72 (for dff_all) to ~0.82 (for df_pruned)."
   ]
  },
  {
   "cell_type": "code",
   "execution_count": 7,
   "metadata": {},
   "outputs": [
    {
     "data": {
      "text/html": [
       "<div>\n",
       "<style>\n",
       "    .dataframe thead tr:only-child th {\n",
       "        text-align: right;\n",
       "    }\n",
       "\n",
       "    .dataframe thead th {\n",
       "        text-align: left;\n",
       "    }\n",
       "\n",
       "    .dataframe tbody tr th {\n",
       "        vertical-align: top;\n",
       "    }\n",
       "</style>\n",
       "<table border=\"1\" class=\"dataframe\">\n",
       "  <thead>\n",
       "    <tr style=\"text-align: right;\">\n",
       "      <th></th>\n",
       "      <th>height</th>\n",
       "      <th>width</th>\n",
       "    </tr>\n",
       "  </thead>\n",
       "  <tbody>\n",
       "    <tr>\n",
       "      <th>0</th>\n",
       "      <td>78</td>\n",
       "      <td>738</td>\n",
       "    </tr>\n",
       "    <tr>\n",
       "      <th>1</th>\n",
       "      <td>94</td>\n",
       "      <td>962</td>\n",
       "    </tr>\n",
       "    <tr>\n",
       "      <th>2</th>\n",
       "      <td>87</td>\n",
       "      <td>291</td>\n",
       "    </tr>\n",
       "    <tr>\n",
       "      <th>3</th>\n",
       "      <td>35</td>\n",
       "      <td>405</td>\n",
       "    </tr>\n",
       "    <tr>\n",
       "      <th>4</th>\n",
       "      <td>60</td>\n",
       "      <td>521</td>\n",
       "    </tr>\n",
       "    <tr>\n",
       "      <th>5</th>\n",
       "      <td>102</td>\n",
       "      <td>206</td>\n",
       "    </tr>\n",
       "    <tr>\n",
       "      <th>7</th>\n",
       "      <td>31</td>\n",
       "      <td>282</td>\n",
       "    </tr>\n",
       "    <tr>\n",
       "      <th>8</th>\n",
       "      <td>80</td>\n",
       "      <td>817</td>\n",
       "    </tr>\n",
       "    <tr>\n",
       "      <th>9</th>\n",
       "      <td>35</td>\n",
       "      <td>296</td>\n",
       "    </tr>\n",
       "    <tr>\n",
       "      <th>10</th>\n",
       "      <td>75</td>\n",
       "      <td>697</td>\n",
       "    </tr>\n",
       "    <tr>\n",
       "      <th>11</th>\n",
       "      <td>82</td>\n",
       "      <td>698</td>\n",
       "    </tr>\n",
       "    <tr>\n",
       "      <th>12</th>\n",
       "      <td>100</td>\n",
       "      <td>835</td>\n",
       "    </tr>\n",
       "    <tr>\n",
       "      <th>13</th>\n",
       "      <td>68</td>\n",
       "      <td>640</td>\n",
       "    </tr>\n",
       "    <tr>\n",
       "      <th>15</th>\n",
       "      <td>95</td>\n",
       "      <td>390</td>\n",
       "    </tr>\n",
       "    <tr>\n",
       "      <th>16</th>\n",
       "      <td>97</td>\n",
       "      <td>1076</td>\n",
       "    </tr>\n",
       "    <tr>\n",
       "      <th>17</th>\n",
       "      <td>81</td>\n",
       "      <td>282</td>\n",
       "    </tr>\n",
       "    <tr>\n",
       "      <th>18</th>\n",
       "      <td>34</td>\n",
       "      <td>304</td>\n",
       "    </tr>\n",
       "    <tr>\n",
       "      <th>19</th>\n",
       "      <td>40</td>\n",
       "      <td>282</td>\n",
       "    </tr>\n",
       "    <tr>\n",
       "      <th>20</th>\n",
       "      <td>80</td>\n",
       "      <td>182</td>\n",
       "    </tr>\n",
       "    <tr>\n",
       "      <th>21</th>\n",
       "      <td>68</td>\n",
       "      <td>833</td>\n",
       "    </tr>\n",
       "    <tr>\n",
       "      <th>22</th>\n",
       "      <td>37</td>\n",
       "      <td>197</td>\n",
       "    </tr>\n",
       "    <tr>\n",
       "      <th>23</th>\n",
       "      <td>85</td>\n",
       "      <td>284</td>\n",
       "    </tr>\n",
       "    <tr>\n",
       "      <th>24</th>\n",
       "      <td>80</td>\n",
       "      <td>582</td>\n",
       "    </tr>\n",
       "    <tr>\n",
       "      <th>25</th>\n",
       "      <td>80</td>\n",
       "      <td>787</td>\n",
       "    </tr>\n",
       "    <tr>\n",
       "      <th>26</th>\n",
       "      <td>69</td>\n",
       "      <td>871</td>\n",
       "    </tr>\n",
       "    <tr>\n",
       "      <th>27</th>\n",
       "      <td>73</td>\n",
       "      <td>301</td>\n",
       "    </tr>\n",
       "    <tr>\n",
       "      <th>28</th>\n",
       "      <td>76</td>\n",
       "      <td>618</td>\n",
       "    </tr>\n",
       "    <tr>\n",
       "      <th>29</th>\n",
       "      <td>68</td>\n",
       "      <td>497</td>\n",
       "    </tr>\n",
       "    <tr>\n",
       "      <th>30</th>\n",
       "      <td>39</td>\n",
       "      <td>776</td>\n",
       "    </tr>\n",
       "    <tr>\n",
       "      <th>31</th>\n",
       "      <td>100</td>\n",
       "      <td>908</td>\n",
       "    </tr>\n",
       "    <tr>\n",
       "      <th>...</th>\n",
       "      <td>...</td>\n",
       "      <td>...</td>\n",
       "    </tr>\n",
       "    <tr>\n",
       "      <th>100668</th>\n",
       "      <td>34</td>\n",
       "      <td>505</td>\n",
       "    </tr>\n",
       "    <tr>\n",
       "      <th>100670</th>\n",
       "      <td>81</td>\n",
       "      <td>486</td>\n",
       "    </tr>\n",
       "    <tr>\n",
       "      <th>100671</th>\n",
       "      <td>79</td>\n",
       "      <td>216</td>\n",
       "    </tr>\n",
       "    <tr>\n",
       "      <th>100672</th>\n",
       "      <td>71</td>\n",
       "      <td>738</td>\n",
       "    </tr>\n",
       "    <tr>\n",
       "      <th>100673</th>\n",
       "      <td>41</td>\n",
       "      <td>528</td>\n",
       "    </tr>\n",
       "    <tr>\n",
       "      <th>100674</th>\n",
       "      <td>47</td>\n",
       "      <td>645</td>\n",
       "    </tr>\n",
       "    <tr>\n",
       "      <th>100675</th>\n",
       "      <td>33</td>\n",
       "      <td>490</td>\n",
       "    </tr>\n",
       "    <tr>\n",
       "      <th>100676</th>\n",
       "      <td>77</td>\n",
       "      <td>480</td>\n",
       "    </tr>\n",
       "    <tr>\n",
       "      <th>100677</th>\n",
       "      <td>39</td>\n",
       "      <td>459</td>\n",
       "    </tr>\n",
       "    <tr>\n",
       "      <th>100678</th>\n",
       "      <td>74</td>\n",
       "      <td>490</td>\n",
       "    </tr>\n",
       "    <tr>\n",
       "      <th>100679</th>\n",
       "      <td>80</td>\n",
       "      <td>736</td>\n",
       "    </tr>\n",
       "    <tr>\n",
       "      <th>100680</th>\n",
       "      <td>104</td>\n",
       "      <td>643</td>\n",
       "    </tr>\n",
       "    <tr>\n",
       "      <th>100681</th>\n",
       "      <td>68</td>\n",
       "      <td>268</td>\n",
       "    </tr>\n",
       "    <tr>\n",
       "      <th>100682</th>\n",
       "      <td>41</td>\n",
       "      <td>485</td>\n",
       "    </tr>\n",
       "    <tr>\n",
       "      <th>100683</th>\n",
       "      <td>24</td>\n",
       "      <td>158</td>\n",
       "    </tr>\n",
       "    <tr>\n",
       "      <th>100684</th>\n",
       "      <td>39</td>\n",
       "      <td>288</td>\n",
       "    </tr>\n",
       "    <tr>\n",
       "      <th>100685</th>\n",
       "      <td>29</td>\n",
       "      <td>350</td>\n",
       "    </tr>\n",
       "    <tr>\n",
       "      <th>100686</th>\n",
       "      <td>35</td>\n",
       "      <td>756</td>\n",
       "    </tr>\n",
       "    <tr>\n",
       "      <th>100687</th>\n",
       "      <td>35</td>\n",
       "      <td>304</td>\n",
       "    </tr>\n",
       "    <tr>\n",
       "      <th>100688</th>\n",
       "      <td>34</td>\n",
       "      <td>331</td>\n",
       "    </tr>\n",
       "    <tr>\n",
       "      <th>100690</th>\n",
       "      <td>33</td>\n",
       "      <td>652</td>\n",
       "    </tr>\n",
       "    <tr>\n",
       "      <th>100691</th>\n",
       "      <td>38</td>\n",
       "      <td>674</td>\n",
       "    </tr>\n",
       "    <tr>\n",
       "      <th>100692</th>\n",
       "      <td>37</td>\n",
       "      <td>258</td>\n",
       "    </tr>\n",
       "    <tr>\n",
       "      <th>100693</th>\n",
       "      <td>68</td>\n",
       "      <td>990</td>\n",
       "    </tr>\n",
       "    <tr>\n",
       "      <th>100694</th>\n",
       "      <td>80</td>\n",
       "      <td>574</td>\n",
       "    </tr>\n",
       "    <tr>\n",
       "      <th>100695</th>\n",
       "      <td>35</td>\n",
       "      <td>427</td>\n",
       "    </tr>\n",
       "    <tr>\n",
       "      <th>100696</th>\n",
       "      <td>37</td>\n",
       "      <td>622</td>\n",
       "    </tr>\n",
       "    <tr>\n",
       "      <th>100697</th>\n",
       "      <td>50</td>\n",
       "      <td>297</td>\n",
       "    </tr>\n",
       "    <tr>\n",
       "      <th>100698</th>\n",
       "      <td>37</td>\n",
       "      <td>254</td>\n",
       "    </tr>\n",
       "    <tr>\n",
       "      <th>100699</th>\n",
       "      <td>101</td>\n",
       "      <td>640</td>\n",
       "    </tr>\n",
       "  </tbody>\n",
       "</table>\n",
       "<p>93741 rows × 2 columns</p>\n",
       "</div>"
      ],
      "text/plain": [
       "        height  width\n",
       "0           78    738\n",
       "1           94    962\n",
       "2           87    291\n",
       "3           35    405\n",
       "4           60    521\n",
       "5          102    206\n",
       "7           31    282\n",
       "8           80    817\n",
       "9           35    296\n",
       "10          75    697\n",
       "11          82    698\n",
       "12         100    835\n",
       "13          68    640\n",
       "15          95    390\n",
       "16          97   1076\n",
       "17          81    282\n",
       "18          34    304\n",
       "19          40    282\n",
       "20          80    182\n",
       "21          68    833\n",
       "22          37    197\n",
       "23          85    284\n",
       "24          80    582\n",
       "25          80    787\n",
       "26          69    871\n",
       "27          73    301\n",
       "28          76    618\n",
       "29          68    497\n",
       "30          39    776\n",
       "31         100    908\n",
       "...        ...    ...\n",
       "100668      34    505\n",
       "100670      81    486\n",
       "100671      79    216\n",
       "100672      71    738\n",
       "100673      41    528\n",
       "100674      47    645\n",
       "100675      33    490\n",
       "100676      77    480\n",
       "100677      39    459\n",
       "100678      74    490\n",
       "100679      80    736\n",
       "100680     104    643\n",
       "100681      68    268\n",
       "100682      41    485\n",
       "100683      24    158\n",
       "100684      39    288\n",
       "100685      29    350\n",
       "100686      35    756\n",
       "100687      35    304\n",
       "100688      34    331\n",
       "100690      33    652\n",
       "100691      38    674\n",
       "100692      37    258\n",
       "100693      68    990\n",
       "100694      80    574\n",
       "100695      35    427\n",
       "100696      37    622\n",
       "100697      50    297\n",
       "100698      37    254\n",
       "100699     101    640\n",
       "\n",
       "[93741 rows x 2 columns]"
      ]
     },
     "execution_count": 7,
     "metadata": {},
     "output_type": "execute_result"
    }
   ],
   "source": [
    "df_pruned[['height','width']]"
   ]
  },
  {
   "cell_type": "code",
   "execution_count": 8,
   "metadata": {
    "scrolled": true
   },
   "outputs": [
    {
     "data": {
      "text/plain": [
       "0.850     91.0\n",
       "0.900    101.0\n",
       "0.950    116.0\n",
       "0.960    120.0\n",
       "0.970    125.0\n",
       "0.980    131.0\n",
       "0.985    135.0\n",
       "0.990    139.0\n",
       "1.000    150.0\n",
       "Name: word2id_len, dtype: float64"
      ]
     },
     "metadata": {},
     "output_type": "display_data"
    }
   ],
   "source": [
    "display(df_pruned.word2id_len.quantile((.85,.90,.95,.96,.97,.98,.985,.99,1.0)))"
   ]
  },
  {
   "cell_type": "markdown",
   "metadata": {},
   "source": [
    "**Below is what the sequence length distribution looks like at this point**"
   ]
  },
  {
   "cell_type": "code",
   "execution_count": 9,
   "metadata": {
    "scrolled": true
   },
   "outputs": [
    {
     "data": {
      "text/plain": [
       "<matplotlib.axes._subplots.AxesSubplot at 0x7f04f6562b90>"
      ]
     },
     "execution_count": 9,
     "metadata": {},
     "output_type": "execute_result"
    },
    {
     "data": {
      "image/png": "[encoded data removed]",
      "text/plain": [
       "<matplotlib.figure.Figure at 0x7f04f65626d0>"
      ]
     },
     "metadata": {},
     "output_type": "display_data"
    }
   ],
   "source": [
    "axes = plt.axes()\n",
    "axes.set_xlabel('markup sequence length')\n",
    "axes.set_title('Distribution of markup sequence length')\n",
    "bins=range(0,151,5)\n",
    "# df_pruned.word2id_len.plot.hist(ax=axes, histtype='step', lw=2,  figsize=(15,5), grid=True, bins=bins, xticks=bins, yticks=range(0,9001,1000))\n",
    "df_pruned.word2id_len.plot.hist(ax=axes, histtype='step', lw=2,  figsize=(15,5), grid=True, bins=bins)"
   ]
  },
  {
   "cell_type": "markdown",
   "metadata": {},
   "source": [
    "### Data Bins\n",
    "Below we create the data-bins as described at the beginning of this section."
   ]
  },
  {
   "cell_type": "code",
   "execution_count": 10,
   "metadata": {
    "scrolled": false
   },
   "outputs": [
    {
     "data": {
      "text/plain": [
       "<matplotlib.axes._subplots.AxesSubplot at 0x7f04f6562050>"
      ]
     },
     "execution_count": 10,
     "metadata": {},
     "output_type": "execute_result"
    },
    {
     "data": {
      "image/png": "[encoded data removed]",
      "text/plain": [
       "<matplotlib.figure.Figure at 0x7f04f36f2190>"
      ]
     },
     "metadata": {},
     "output_type": "display_data"
    }
   ],
   "source": [
    "axes = plt.axes()\n",
    "axes.set_xlabel('batch')\n",
    "axes.set_ylabel('batch-count')\n",
    "axes.set_title('sequence length of bins')\n",
    "df_pruned.word2id_len.plot.hist(ax=axes, histtype='step', lw=2,  figsize=(15,5), grid=True, bins=HYPER_bins)"
   ]
  },
  {
   "cell_type": "code",
   "execution_count": 11,
   "metadata": {
    "scrolled": true
   },
   "outputs": [
    {
     "data": {
      "text/html": [
       "<div>\n",
       "<style>\n",
       "    .dataframe thead tr:only-child th {\n",
       "        text-align: right;\n",
       "    }\n",
       "\n",
       "    .dataframe thead th {\n",
       "        text-align: left;\n",
       "    }\n",
       "\n",
       "    .dataframe tbody tr th {\n",
       "        vertical-align: top;\n",
       "    }\n",
       "</style>\n",
       "<table border=\"1\" class=\"dataframe\">\n",
       "  <thead>\n",
       "    <tr style=\"text-align: right;\">\n",
       "      <th></th>\n",
       "      <th>image</th>\n",
       "      <th>height</th>\n",
       "      <th>width</th>\n",
       "      <th>word2id_len</th>\n",
       "      <th>bin_len</th>\n",
       "      <th>word2id</th>\n",
       "      <th>latex_ascii</th>\n",
       "    </tr>\n",
       "  </thead>\n",
       "  <tbody>\n",
       "    <tr>\n",
       "      <th>0</th>\n",
       "      <td>23be72ded29e9b4_basic.png</td>\n",
       "      <td>78</td>\n",
       "      <td>738</td>\n",
       "      <td>112</td>\n",
       "      <td>151</td>\n",
       "      <td>[173, 324, 353, 11, 154, 355, 323, 353, 172, 355, 330, 338, 63, 207, 353, 331, 355, 323, 353, 11...</td>\n",
       "      <td>\\int _ { - \\epsilon } ^ { \\infty } d l \\: \\mathrm { e } ^ { - l \\zeta } \\int _ { - \\epsilon } ^ ...</td>\n",
       "    </tr>\n",
       "    <tr>\n",
       "      <th>1</th>\n",
       "      <td>8c904c5d9c7bd63_basic.png</td>\n",
       "      <td>94</td>\n",
       "      <td>962</td>\n",
       "      <td>129</td>\n",
       "      <td>151</td>\n",
       "      <td>[330, 345, 323, 353, 18, 355, 29, 6, 17, 11, 353, 160, 353, 343, 328, 341, 345, 289, 355, 353, 3...</td>\n",
       "      <td>d s ^ { 2 } = ( 1 - { \\frac { q c o s \\theta } { r } } ) ^ { \\frac { 2 } { 1 + \\alpha ^ { 2 } } ...</td>\n",
       "    </tr>\n",
       "    <tr>\n",
       "      <th>2</th>\n",
       "      <td>1f111caa1be3516_basic.png</td>\n",
       "      <td>87</td>\n",
       "      <td>291</td>\n",
       "      <td>51</td>\n",
       "      <td>61</td>\n",
       "      <td>[315, 161, 324, 353, 207, 353, 334, 341, 342, 332, 355, 355, 272, 283, 324, 353, 340, 30, 16, 35...</td>\n",
       "      <td>\\widetilde \\gamma _ { \\mathrm { h o p f } } \\simeq \\sum _ { n &gt; 0 } \\widetilde { G } _ { n } { \\...</td>\n",
       "    </tr>\n",
       "    <tr>\n",
       "      <th>3</th>\n",
       "      <td>76287b1b483a0d2_basic.png</td>\n",
       "      <td>35</td>\n",
       "      <td>405</td>\n",
       "      <td>43</td>\n",
       "      <td>51</td>\n",
       "      <td>[6, 353, 125, 42, 355, 324, 353, 326, 355, 333, 7, 324, 353, 335, 336, 355, 29, 16, 10, 58, 58, ...</td>\n",
       "      <td>( { \\cal L } _ { a } g ) _ { i j } = 0 , \\ \\ \\ \\ ( { \\cal L } _ { a } H ) _ { i j k } = 0 ,</td>\n",
       "    </tr>\n",
       "    <tr>\n",
       "      <th>4</th>\n",
       "      <td>7483d06c1e14dcb_basic.png</td>\n",
       "      <td>60</td>\n",
       "      <td>521</td>\n",
       "      <td>61</td>\n",
       "      <td>71</td>\n",
       "      <td>[49, 324, 353, 345, 346, 326, 346, 355, 29, 18, 238, 277, 353, 44, 324, 353, 21, 355, 323, 353, ...</td>\n",
       "      <td>S _ { s t a t } = 2 \\pi \\sqrt { N _ { 5 } ^ { ( 1 ) } N _ { 5 } ^ { ( 2 ) } N _ { 5 } ^ { ( 3 ) ...</td>\n",
       "    </tr>\n",
       "  </tbody>\n",
       "</table>\n",
       "</div>"
      ],
      "text/plain": [
       "                       image  height  width  word2id_len  bin_len  \\\n",
       "0  23be72ded29e9b4_basic.png      78    738          112      151   \n",
       "1  8c904c5d9c7bd63_basic.png      94    962          129      151   \n",
       "2  1f111caa1be3516_basic.png      87    291           51       61   \n",
       "3  76287b1b483a0d2_basic.png      35    405           43       51   \n",
       "4  7483d06c1e14dcb_basic.png      60    521           61       71   \n",
       "\n",
       "                                                                                               word2id  \\\n",
       "0  [173, 324, 353, 11, 154, 355, 323, 353, 172, 355, 330, 338, 63, 207, 353, 331, 355, 323, 353, 11...   \n",
       "1  [330, 345, 323, 353, 18, 355, 29, 6, 17, 11, 353, 160, 353, 343, 328, 341, 345, 289, 355, 353, 3...   \n",
       "2  [315, 161, 324, 353, 207, 353, 334, 341, 342, 332, 355, 355, 272, 283, 324, 353, 340, 30, 16, 35...   \n",
       "3  [6, 353, 125, 42, 355, 324, 353, 326, 355, 333, 7, 324, 353, 335, 336, 355, 29, 16, 10, 58, 58, ...   \n",
       "4  [49, 324, 353, 345, 346, 326, 346, 355, 29, 18, 238, 277, 353, 44, 324, 353, 21, 355, 323, 353, ...   \n",
       "\n",
       "                                                                                           latex_ascii  \n",
       "0  \\int _ { - \\epsilon } ^ { \\infty } d l \\: \\mathrm { e } ^ { - l \\zeta } \\int _ { - \\epsilon } ^ ...  \n",
       "1  d s ^ { 2 } = ( 1 - { \\frac { q c o s \\theta } { r } } ) ^ { \\frac { 2 } { 1 + \\alpha ^ { 2 } } ...  \n",
       "2  \\widetilde \\gamma _ { \\mathrm { h o p f } } \\simeq \\sum _ { n > 0 } \\widetilde { G } _ { n } { \\...  \n",
       "3          ( { \\cal L } _ { a } g ) _ { i j } = 0 , \\ \\ \\ \\ ( { \\cal L } _ { a } H ) _ { i j k } = 0 ,  \n",
       "4  S _ { s t a t } = 2 \\pi \\sqrt { N _ { 5 } ^ { ( 1 ) } N _ { 5 } ^ { ( 2 ) } N _ { 5 } ^ { ( 3 ) ...  "
      ]
     },
     "execution_count": 11,
     "metadata": {},
     "output_type": "execute_result"
    }
   ],
   "source": [
    "## 'bin' the entries\n",
    "bin_lens=np.array(HYPER_bins[1:]) + 1 #Add 1 for ensuring minimum one 'null' token at the end of sequence.\n",
    "## mapper for converting pandas category# into integer bin_len (because pandas Category are special types)\n",
    "m = {i:bin_lens[i] for i in range(len(bin_lens))}\n",
    "\n",
    "cats = pd.cut(df_pruned.word2id_len, HYPER_bins, labels=False)\n",
    "df_bins = df_pruned.assign(bin_len=cats.map(m))[['image', 'height', 'width', 'word2id_len', 'bin_len', 'word2id', 'latex_ascii' ]]\n",
    "df_bins.head()"
   ]
  },
  {
   "cell_type": "code",
   "execution_count": 12,
   "metadata": {
    "scrolled": true
   },
   "outputs": [
    {
     "data": {
      "text/html": [
       "<div>\n",
       "<style>\n",
       "    .dataframe thead tr:only-child th {\n",
       "        text-align: right;\n",
       "    }\n",
       "\n",
       "    .dataframe thead th {\n",
       "        text-align: left;\n",
       "    }\n",
       "\n",
       "    .dataframe tbody tr th {\n",
       "        vertical-align: top;\n",
       "    }\n",
       "</style>\n",
       "<table border=\"1\" class=\"dataframe\">\n",
       "  <thead>\n",
       "    <tr style=\"text-align: right;\">\n",
       "      <th></th>\n",
       "      <th>image</th>\n",
       "      <th>height</th>\n",
       "      <th>width</th>\n",
       "      <th>word2id_len</th>\n",
       "      <th>word2id</th>\n",
       "      <th>latex_ascii</th>\n",
       "    </tr>\n",
       "    <tr>\n",
       "      <th>bin_len</th>\n",
       "      <th></th>\n",
       "      <th></th>\n",
       "      <th></th>\n",
       "      <th></th>\n",
       "      <th></th>\n",
       "      <th></th>\n",
       "    </tr>\n",
       "  </thead>\n",
       "  <tbody>\n",
       "    <tr>\n",
       "      <th>31</th>\n",
       "      <td>14277</td>\n",
       "      <td>14277</td>\n",
       "      <td>14277</td>\n",
       "      <td>14277</td>\n",
       "      <td>14277</td>\n",
       "      <td>14277</td>\n",
       "    </tr>\n",
       "    <tr>\n",
       "      <th>41</th>\n",
       "      <td>15162</td>\n",
       "      <td>15162</td>\n",
       "      <td>15162</td>\n",
       "      <td>15162</td>\n",
       "      <td>15162</td>\n",
       "      <td>15162</td>\n",
       "    </tr>\n",
       "    <tr>\n",
       "      <th>51</th>\n",
       "      <td>14472</td>\n",
       "      <td>14472</td>\n",
       "      <td>14472</td>\n",
       "      <td>14472</td>\n",
       "      <td>14472</td>\n",
       "      <td>14472</td>\n",
       "    </tr>\n",
       "    <tr>\n",
       "      <th>61</th>\n",
       "      <td>12179</td>\n",
       "      <td>12179</td>\n",
       "      <td>12179</td>\n",
       "      <td>12179</td>\n",
       "      <td>12179</td>\n",
       "      <td>12179</td>\n",
       "    </tr>\n",
       "    <tr>\n",
       "      <th>71</th>\n",
       "      <td>9815</td>\n",
       "      <td>9815</td>\n",
       "      <td>9815</td>\n",
       "      <td>9815</td>\n",
       "      <td>9815</td>\n",
       "      <td>9815</td>\n",
       "    </tr>\n",
       "    <tr>\n",
       "      <th>81</th>\n",
       "      <td>7612</td>\n",
       "      <td>7612</td>\n",
       "      <td>7612</td>\n",
       "      <td>7612</td>\n",
       "      <td>7612</td>\n",
       "      <td>7612</td>\n",
       "    </tr>\n",
       "    <tr>\n",
       "      <th>91</th>\n",
       "      <td>6129</td>\n",
       "      <td>6129</td>\n",
       "      <td>6129</td>\n",
       "      <td>6129</td>\n",
       "      <td>6129</td>\n",
       "      <td>6129</td>\n",
       "    </tr>\n",
       "    <tr>\n",
       "      <th>111</th>\n",
       "      <td>7966</td>\n",
       "      <td>7966</td>\n",
       "      <td>7966</td>\n",
       "      <td>7966</td>\n",
       "      <td>7966</td>\n",
       "      <td>7966</td>\n",
       "    </tr>\n",
       "    <tr>\n",
       "      <th>151</th>\n",
       "      <td>6129</td>\n",
       "      <td>6129</td>\n",
       "      <td>6129</td>\n",
       "      <td>6129</td>\n",
       "      <td>6129</td>\n",
       "      <td>6129</td>\n",
       "    </tr>\n",
       "  </tbody>\n",
       "</table>\n",
       "</div>"
      ],
      "text/plain": [
       "         image  height  width  word2id_len  word2id  latex_ascii\n",
       "bin_len                                                         \n",
       "31       14277   14277  14277        14277    14277        14277\n",
       "41       15162   15162  15162        15162    15162        15162\n",
       "51       14472   14472  14472        14472    14472        14472\n",
       "61       12179   12179  12179        12179    12179        12179\n",
       "71        9815    9815   9815         9815     9815         9815\n",
       "81        7612    7612   7612         7612     7612         7612\n",
       "91        6129    6129   6129         6129     6129         6129\n",
       "111       7966    7966   7966         7966     7966         7966\n",
       "151       6129    6129   6129         6129     6129         6129"
      ]
     },
     "execution_count": 12,
     "metadata": {},
     "output_type": "execute_result"
    }
   ],
   "source": [
    "df_bins.groupby('bin_len').count()"
   ]
  },
  {
   "cell_type": "code",
   "execution_count": 13,
   "metadata": {
    "scrolled": true
   },
   "outputs": [
    {
     "name": "stdout",
     "output_type": "stream",
     "text": [
      "Rounding up df_train from size 89093 to 89096\n",
      "(93741, 7) (4648, 7) (89096, 7)\n",
      "Rounded up samples = 93744, Actual samples = 93741\n"
     ]
    }
   ],
   "source": [
    "## randomly pick test-data - approx 5% of data size - ensuring it is an integral multiple of batch_size\n",
    "test_count = int(df_bins.shape[0]*0.05 // HYPER_batch_size) * HYPER_batch_size\n",
    "df_test = df_bins.sample(n=test_count)\n",
    "df_train = df_bins.drop(df_test.index)\n",
    "## round df_train up to an integral multiple of batch_size by duplicating randomly selected samples\n",
    "shortfall = HYPER_batch_size - df_train.shape[0]%HYPER_batch_size\n",
    "if shortfall > 0:\n",
    "    print('Rounding up df_train from size %d to %d'%(df_train.shape[0], df_train.shape[0]+shortfall))\n",
    "    df_shortfall = df_train.sample(n=shortfall)\n",
    "    df_shortfall.index = (df_shortfall.index + 1000000) # Add 1mil to the index to ensure unique index\n",
    "    df_train = df_train.append(df_shortfall, verify_integrity=True) # duplicate indexes\n",
    "assert df_train.index.intersection(df_test.index).shape[0] == 0\n",
    "print(df_bins.shape, df_test.shape, df_train.shape)\n",
    "print('Rounded up samples = %d, Actual samples = %d'%(df_test.shape[0]+df_train.shape[0], \n",
    "                                                      df_test.shape[0]+df_train.shape[0]-shortfall))"
   ]
  },
  {
   "cell_type": "code",
   "execution_count": 14,
   "metadata": {
    "scrolled": false
   },
   "outputs": [
    {
     "data": {
      "text/plain": [
       "<matplotlib.axes._subplots.AxesSubplot at 0x7f04ed59d310>"
      ]
     },
     "execution_count": 14,
     "metadata": {},
     "output_type": "execute_result"
    },
    {
     "data": {
      "image/png": "[encoded data removed]",
      "text/plain": [
       "<matplotlib.figure.Figure at 0x7f04ed686bd0>"
      ]
     },
     "metadata": {},
     "output_type": "display_data"
    }
   ],
   "source": [
    "axes = plt.axes()\n",
    "axes.set_ylabel('bin-count')\n",
    "axes.set_title('test bin distribution')\n",
    "df_test.groupby('bin_len').count().image.plot.bar(ax=axes, lw=2, figsize=(15,5), grid=True)"
   ]
  },
  {
   "cell_type": "code",
   "execution_count": 15,
   "metadata": {
    "scrolled": true
   },
   "outputs": [
    {
     "data": {
      "text/plain": [
       "<matplotlib.axes._subplots.AxesSubplot at 0x7f04ed5ded10>"
      ]
     },
     "execution_count": 15,
     "metadata": {},
     "output_type": "execute_result"
    },
    {
     "data": {
      "image/png": "[encoded data removed]",
      "text/plain": [
       "<matplotlib.figure.Figure at 0x7f04f3644350>"
      ]
     },
     "metadata": {},
     "output_type": "display_data"
    }
   ],
   "source": [
    "axes = plt.axes()\n",
    "axes.set_ylabel('bin-count')\n",
    "axes.set_title('training bin distribution')\n",
    "df_train.groupby('bin_len').count().image.plot.bar(ax=axes, lw=2, figsize=(15,5), grid=True)"
   ]
  },
  {
   "cell_type": "code",
   "execution_count": 16,
   "metadata": {
    "collapsed": true,
    "scrolled": true
   },
   "outputs": [],
   "source": [
    "## Code that adjusts bin-composition in order to minimze waste of samples owing to batch quantization\n",
    "def print_bin_waste(df_, batch_size_):\n",
    "    cum = 0\n",
    "    bin_lens = sorted(df_.bin_len.unique().tolist())\n",
    "    counts = [df_[df_.bin_len==l].shape[0] for l in bin_lens]\n",
    "    total = sum(counts)\n",
    "    print('bin_len|count|waste|cumulative')\n",
    "    for i in range(len(bin_lens)):\n",
    "        rem = counts[i] % batch_size_\n",
    "        cum += rem\n",
    "        print(\"%d)\\t%d,\\t%d,\\t%d\"%(bin_lens[i], counts[i], rem, cum))\n",
    "    assert total == sum(counts)\n",
    "    print('total %% batch_size_ = %d'%(total%batch_size_,))\n",
    "    return\n",
    "\n",
    "def adjust_bins(df_bins_, batch_size_):\n",
    "    df_ = df_bins_.copy()\n",
    "    bins = sorted(df_.bin_len.unique().tolist())\n",
    "    for i in range(len(bins)-1):\n",
    "        ## Can't use bin_count here because it changes during the loop\n",
    "        rem = df_[df_.bin_len == bins[i]].shape[0] % batch_size_\n",
    "        if rem > 0:\n",
    "            ## Move the tail of the bin into the next one\n",
    "            idx_tail = df_[df_.bin_len == bins[i]].word2id_len.sort_values()[-1*rem:].index\n",
    "            df_.loc[idx_tail, 'bin_len'] = bins[i+1]\n",
    "            print('Moving %d samples from bin %d to %d'%(rem,bin_lens[i],bin_lens[i+1]))\n",
    "\n",
    "    return df_\n",
    "\n",
    "# def adjust_bins2(df_bins_, batch_size_):\n",
    "#     df_ = df_bins_.copy()\n",
    "#     ## Idea is to spread the sample-waste over all the bins, proportional to the size of the bin.\n",
    "#     waste = df_.shape[0] % batch_size_\n",
    "#     bin_lens = sorted(df_.bin_len.unique().tolist())\n",
    "#     bin_counts = [df_[df_.bin_len==l].shape[0] for l in bin_lens]\n",
    "#     ## Draw from a multinomial distribution to get the number of samples to waste in each bin.\n",
    "#     pvals = np.array(bin_counts, dtype=float) / df_.shape[0]\n",
    "#     assert sum(pvals) == 1.0\n",
    "#     print(pvals, \" sum=%f\"%(sum(pvals),))\n",
    "#     bin_waste = np.random.multinomial(waste, pvals)\n",
    "#     print(bin_waste, \" sum=%d\"%(sum(bin_waste),))\n",
    "#     ## Now adjust the bins\n",
    "#     for i in range(len(bin_lens)-1):\n",
    "#         ## Can't use bin_count here because it changes during the loop\n",
    "#         rem = df_[df_.bin_len == bin_lens[i]].shape[0] % batch_size_ - bin_waste[i]\n",
    "#         if rem > 0:\n",
    "#             ## Move the tail of the bin into the next one\n",
    "#             df_slice = df_[df_.bin_len == bin_lens[i]].word2id_len.sort_values()[-1*rem:].index\n",
    "#             df_.loc[df_slice, 'bin_len'] = bin_lens[i+1]\n",
    "#             print('Moving %d samples from bin %d to %d'%(rem,bin_lens[i],bin_lens[i+1]))\n",
    "#         elif rem < 0:\n",
    "#             ## Move in the head of the next bin into this one\n",
    "#             df_slice = df_[df_.bin_len == bin_lens[i+1]].word2id_len.sort_values()[:-1*rem].index\n",
    "#             new_bin_len = df_.loc[df_slice].word2id_len.max() + 1\n",
    "#             print('Moving %d samples from bin %d to %d (old_bin_len = %d)'%(rem,bin_lens[i+1],new_bin_len,bin_lens[i]))\n",
    "#             df_.loc[df_slice, 'bin_len'] = new_bin_len\n",
    "#             df_.loc[df_.bin_len == bin_lens[i], 'bin_len'] = new_bin_len\n",
    "#             bin_lens[i] = new_bin_len\n",
    "#     print('Final bins: ', bin_lens)\n",
    "#     return df_"
   ]
  },
  {
   "cell_type": "code",
   "execution_count": 17,
   "metadata": {
    "scrolled": false
   },
   "outputs": [
    {
     "name": "stdout",
     "output_type": "stream",
     "text": [
      "bin_len|count|waste|cumulative\n",
      "31)\t13585,\t33,\t33\n",
      "41)\t14376,\t40,\t73\n",
      "51)\t13764,\t44,\t117\n",
      "61)\t11545,\t9,\t126\n",
      "71)\t9352,\t0,\t126\n",
      "81)\t7246,\t22,\t148\n",
      "91)\t5818,\t50,\t198\n",
      "111)\t7570,\t10,\t208\n",
      "151)\t5840,\t16,\t224\n",
      "total % batch_size_ = 0\n",
      "Moving 33 samples from bin 31 to 41\n",
      "Moving 17 samples from bin 41 to 51\n",
      "Moving 5 samples from bin 51 to 61\n",
      "Moving 14 samples from bin 61 to 71\n",
      "Moving 14 samples from bin 71 to 81\n",
      "Moving 36 samples from bin 81 to 91\n",
      "Moving 30 samples from bin 91 to 111\n",
      "Moving 40 samples from bin 111 to 151\n",
      "bin_len|count|waste|cumulative\n",
      "31)\t13552,\t0,\t0\n",
      "41)\t14392,\t0,\t0\n",
      "51)\t13776,\t0,\t0\n",
      "61)\t11536,\t0,\t0\n",
      "71)\t9352,\t0,\t0\n",
      "81)\t7224,\t0,\t0\n",
      "91)\t5824,\t0,\t0\n",
      "111)\t7560,\t0,\t0\n",
      "151)\t5880,\t0,\t0\n",
      "total % batch_size_ = 0\n"
     ]
    },
    {
     "data": {
      "text/plain": [
       "<matplotlib.axes._subplots.AxesSubplot at 0x7f04edbdf450>"
      ]
     },
     "execution_count": 17,
     "metadata": {},
     "output_type": "execute_result"
    },
    {
     "data": {
      "image/png": "[encoded data removed]",
      "text/plain": [
       "<matplotlib.figure.Figure at 0x7f04f359c1d0>"
      ]
     },
     "metadata": {},
     "output_type": "display_data"
    }
   ],
   "source": [
    "print_bin_waste(df_train, HYPER_batch_size)\n",
    "df_train_adjusted = adjust_bins(df_train, HYPER_batch_size)\n",
    "print_bin_waste(df_train_adjusted, HYPER_batch_size)\n",
    "## Plot\n",
    "axes = plt.axes()\n",
    "axes.set_xlabel('bin_len')\n",
    "axes.set_ylabel('bin-count')\n",
    "axes.set_title('bin distribution')\n",
    "df_train_adjusted.groupby('bin_len').count().image.plot.bar(ax=axes, lw=2, figsize=(15,5), grid=True)"
   ]
  },
  {
   "cell_type": "code",
   "execution_count": 18,
   "metadata": {
    "scrolled": false
   },
   "outputs": [
    {
     "name": "stdout",
     "output_type": "stream",
     "text": [
      "bin_len|count|waste|cumulative\n",
      "31)\t692,\t20,\t20\n",
      "41)\t789,\t5,\t25\n",
      "51)\t708,\t36,\t61\n",
      "61)\t634,\t18,\t79\n",
      "71)\t463,\t15,\t94\n",
      "81)\t366,\t30,\t124\n",
      "91)\t311,\t31,\t155\n",
      "111)\t396,\t4,\t159\n",
      "151)\t289,\t9,\t168\n",
      "total % batch_size_ = 0\n",
      "Moving 20 samples from bin 31 to 41\n",
      "Moving 25 samples from bin 41 to 51\n",
      "Moving 5 samples from bin 51 to 61\n",
      "Moving 23 samples from bin 61 to 71\n",
      "Moving 38 samples from bin 71 to 81\n",
      "Moving 12 samples from bin 81 to 91\n",
      "Moving 43 samples from bin 91 to 111\n",
      "Moving 47 samples from bin 111 to 151\n",
      "bin_len|count|waste|cumulative\n",
      "31)\t672,\t0,\t0\n",
      "41)\t784,\t0,\t0\n",
      "51)\t728,\t0,\t0\n",
      "61)\t616,\t0,\t0\n",
      "71)\t448,\t0,\t0\n",
      "81)\t392,\t0,\t0\n",
      "91)\t280,\t0,\t0\n",
      "111)\t392,\t0,\t0\n",
      "151)\t336,\t0,\t0\n",
      "total % batch_size_ = 0\n"
     ]
    },
    {
     "data": {
      "text/plain": [
       "<matplotlib.axes._subplots.AxesSubplot at 0x7f04f359cb90>"
      ]
     },
     "execution_count": 18,
     "metadata": {},
     "output_type": "execute_result"
    },
    {
     "data": {
      "image/png": "[encoded data removed]",
      "text/plain": [
       "<matplotlib.figure.Figure at 0x7f04f35fe310>"
      ]
     },
     "metadata": {},
     "output_type": "display_data"
    }
   ],
   "source": [
    "print_bin_waste(df_test, HYPER_batch_size)\n",
    "df_test_adjusted = adjust_bins(df_test, HYPER_batch_size)\n",
    "print_bin_waste(df_test_adjusted, HYPER_batch_size)\n",
    "## Plot\n",
    "axes = plt.axes()\n",
    "axes.set_ylabel('bin-count')\n",
    "axes.set_title('bin distribution')\n",
    "df_test_adjusted.groupby('bin_len').count().image.plot.bar(ax=axes, lw=2, figsize=(15,5), grid=True)"
   ]
  },
  {
   "cell_type": "code",
   "execution_count": 19,
   "metadata": {
    "collapsed": true,
    "scrolled": true
   },
   "outputs": [],
   "source": [
    "def get_padded(df_):\n",
    "    def pad(row_ar):\n",
    "        \"\"\"\n",
    "        Return null-terminated and padded token-sequence, padded upto bin_len size.\n",
    "        Arguments:\n",
    "            row_ar: sequence ('bin_len', 'word2id_len', 'word2id')\n",
    "        \"\"\"\n",
    "        word2id = row_ar[2]\n",
    "        ## plen = (pad_before, pad_after)\n",
    "        plen = (0, row_ar[0]-row_ar[1])\n",
    "        ## Ensure that we have room for at least one null-terminator\n",
    "        assert plen[1] > 0\n",
    "        return np.pad(word2id, plen, 'constant', constant_values=0).tolist()\n",
    "    \n",
    "    df = df_[['bin_len', 'word2id_len', 'word2id']]\n",
    "    padded_seq = df.apply(pad, raw=True, reduce=True, axis=1)\n",
    "    df_padded = df_.assign(seq_len=df_.word2id_len+1, ## add 1 for <eos> token (null)\n",
    "                      padded_seq=padded_seq, \n",
    "                      padded_seq_len=padded_seq.str.len())\n",
    "    print(df_padded.shape)\n",
    "    display(df_padded[:1])\n",
    "    return df_padded"
   ]
  },
  {
   "cell_type": "markdown",
   "metadata": {},
   "source": [
    "#### TODO: Squashing is not needed if we do not have any whitespace token. Need to short-cut this step by simply assigning padded_seq to squashed_seq"
   ]
  },
  {
   "cell_type": "code",
   "execution_count": 20,
   "metadata": {
    "collapsed": true
   },
   "outputs": [],
   "source": [
    "def get_squashed(df_):\n",
    "    def squash(row_ar):\n",
    "        \"\"\"\n",
    "        Return padded token-sequence, with all spaces removed and padded upto bin_len size.\n",
    "        Arguments:\n",
    "            row_ar: sequence ('bin_len', 'word2id')\n",
    "        \"\"\"\n",
    "        word2id = np.asarray(row_ar[1])\n",
    "        squashed = word2id[word2id != 556]\n",
    "        return squashed.tolist()\n",
    "    def pad2(row_ar):\n",
    "        \"\"\"\n",
    "        Return null-terminated and padded token-sequence, padded upto bin_len size.\n",
    "        Arguments:\n",
    "            row_ar: sequence ('bin_len', 'col')\n",
    "        \"\"\"\n",
    "        lst = row_ar[1]\n",
    "        ## plen = (pad_before, pad_after)\n",
    "        plen = (0, row_ar[0] - len(lst))\n",
    "        ## Ensure that we have room for at least one null-terminator\n",
    "        try:\n",
    "            assert plen[1] > 0\n",
    "        except:\n",
    "            print (row_ar)\n",
    "            raise\n",
    "        return np.pad(lst, plen, 'constant', constant_values=0).tolist()\n",
    "\n",
    "    df = df_[['bin_len', 'word2id']]\n",
    "    squashed_seq = df.apply(squash, raw=True, reduce=True, axis=1)\n",
    "    df_ =  df_.assign(squashed_seq=squashed_seq,\n",
    "                      squashed_len=squashed_seq.str.len()+1) ## add 1 for <eos>/null token\n",
    "    ## Pad the squashed sequence. Had to do this separately since str.len() would\n",
    "    ## return bin-lens if this was done in the previous step.\n",
    "    df = df_[['bin_len', 'squashed_seq']]\n",
    "    padded_seq = df.apply(pad2, raw=True, reduce=True, axis=1)\n",
    "    df_squashed = df_.assign(squashed_seq=padded_seq)\n",
    "    print(df_squashed.shape)\n",
    "    display(df_squashed[:1])\n",
    "    return df_squashed"
   ]
  },
  {
   "cell_type": "code",
   "execution_count": 21,
   "metadata": {
    "scrolled": true
   },
   "outputs": [
    {
     "name": "stdout",
     "output_type": "stream",
     "text": [
      "(89096, 10)\n"
     ]
    },
    {
     "data": {
      "text/html": [
       "<div>\n",
       "<style>\n",
       "    .dataframe thead tr:only-child th {\n",
       "        text-align: right;\n",
       "    }\n",
       "\n",
       "    .dataframe thead th {\n",
       "        text-align: left;\n",
       "    }\n",
       "\n",
       "    .dataframe tbody tr th {\n",
       "        vertical-align: top;\n",
       "    }\n",
       "</style>\n",
       "<table border=\"1\" class=\"dataframe\">\n",
       "  <thead>\n",
       "    <tr style=\"text-align: right;\">\n",
       "      <th></th>\n",
       "      <th>image</th>\n",
       "      <th>height</th>\n",
       "      <th>width</th>\n",
       "      <th>word2id_len</th>\n",
       "      <th>bin_len</th>\n",
       "      <th>word2id</th>\n",
       "      <th>latex_ascii</th>\n",
       "      <th>padded_seq</th>\n",
       "      <th>padded_seq_len</th>\n",
       "      <th>seq_len</th>\n",
       "    </tr>\n",
       "  </thead>\n",
       "  <tbody>\n",
       "    <tr>\n",
       "      <th>0</th>\n",
       "      <td>23be72ded29e9b4_basic.png</td>\n",
       "      <td>78</td>\n",
       "      <td>738</td>\n",
       "      <td>112</td>\n",
       "      <td>151</td>\n",
       "      <td>[173, 324, 353, 11, 154, 355, 323, 353, 172, 355, 330, 338, 63, 207, 353, 331, 355, 323, 353, 11...</td>\n",
       "      <td>\\int _ { - \\epsilon } ^ { \\infty } d l \\: \\mathrm { e } ^ { - l \\zeta } \\int _ { - \\epsilon } ^ ...</td>\n",
       "      <td>[173, 324, 353, 11, 154, 355, 323, 353, 172, 355, 330, 338, 63, 207, 353, 331, 355, 323, 353, 11...</td>\n",
       "      <td>151</td>\n",
       "      <td>113</td>\n",
       "    </tr>\n",
       "  </tbody>\n",
       "</table>\n",
       "</div>"
      ],
      "text/plain": [
       "                       image  height  width  word2id_len  bin_len  \\\n",
       "0  23be72ded29e9b4_basic.png      78    738          112      151   \n",
       "\n",
       "                                                                                               word2id  \\\n",
       "0  [173, 324, 353, 11, 154, 355, 323, 353, 172, 355, 330, 338, 63, 207, 353, 331, 355, 323, 353, 11...   \n",
       "\n",
       "                                                                                           latex_ascii  \\\n",
       "0  \\int _ { - \\epsilon } ^ { \\infty } d l \\: \\mathrm { e } ^ { - l \\zeta } \\int _ { - \\epsilon } ^ ...   \n",
       "\n",
       "                                                                                            padded_seq  padded_seq_len  seq_len  \n",
       "0  [173, 324, 353, 11, 154, 355, 323, 353, 172, 355, 330, 338, 63, 207, 353, 331, 355, 323, 353, 11...             151      113  "
      ]
     },
     "metadata": {},
     "output_type": "display_data"
    }
   ],
   "source": [
    "df_train_padded = get_padded(df_train_adjusted)\n",
    "assert sum(df_train_padded.padded_seq_len != df_train_padded.bin_len) == 0\n",
    "assert sum(df_train_padded.word2id_len != (df_train_padded.seq_len-1)) == 0"
   ]
  },
  {
   "cell_type": "code",
   "execution_count": 22,
   "metadata": {},
   "outputs": [
    {
     "name": "stdout",
     "output_type": "stream",
     "text": [
      "(89096, 12)\n"
     ]
    },
    {
     "data": {
      "text/html": [
       "<div>\n",
       "<style>\n",
       "    .dataframe thead tr:only-child th {\n",
       "        text-align: right;\n",
       "    }\n",
       "\n",
       "    .dataframe thead th {\n",
       "        text-align: left;\n",
       "    }\n",
       "\n",
       "    .dataframe tbody tr th {\n",
       "        vertical-align: top;\n",
       "    }\n",
       "</style>\n",
       "<table border=\"1\" class=\"dataframe\">\n",
       "  <thead>\n",
       "    <tr style=\"text-align: right;\">\n",
       "      <th></th>\n",
       "      <th>image</th>\n",
       "      <th>height</th>\n",
       "      <th>width</th>\n",
       "      <th>word2id_len</th>\n",
       "      <th>bin_len</th>\n",
       "      <th>word2id</th>\n",
       "      <th>latex_ascii</th>\n",
       "      <th>padded_seq</th>\n",
       "      <th>padded_seq_len</th>\n",
       "      <th>seq_len</th>\n",
       "      <th>squashed_len</th>\n",
       "      <th>squashed_seq</th>\n",
       "    </tr>\n",
       "  </thead>\n",
       "  <tbody>\n",
       "    <tr>\n",
       "      <th>0</th>\n",
       "      <td>23be72ded29e9b4_basic.png</td>\n",
       "      <td>78</td>\n",
       "      <td>738</td>\n",
       "      <td>112</td>\n",
       "      <td>151</td>\n",
       "      <td>[173, 324, 353, 11, 154, 355, 323, 353, 172, 355, 330, 338, 63, 207, 353, 331, 355, 323, 353, 11...</td>\n",
       "      <td>\\int _ { - \\epsilon } ^ { \\infty } d l \\: \\mathrm { e } ^ { - l \\zeta } \\int _ { - \\epsilon } ^ ...</td>\n",
       "      <td>[173, 324, 353, 11, 154, 355, 323, 353, 172, 355, 330, 338, 63, 207, 353, 331, 355, 323, 353, 11...</td>\n",
       "      <td>151</td>\n",
       "      <td>113</td>\n",
       "      <td>113</td>\n",
       "      <td>[173, 324, 353, 11, 154, 355, 323, 353, 172, 355, 330, 338, 63, 207, 353, 331, 355, 323, 353, 11...</td>\n",
       "    </tr>\n",
       "  </tbody>\n",
       "</table>\n",
       "</div>"
      ],
      "text/plain": [
       "                       image  height  width  word2id_len  bin_len  \\\n",
       "0  23be72ded29e9b4_basic.png      78    738          112      151   \n",
       "\n",
       "                                                                                               word2id  \\\n",
       "0  [173, 324, 353, 11, 154, 355, 323, 353, 172, 355, 330, 338, 63, 207, 353, 331, 355, 323, 353, 11...   \n",
       "\n",
       "                                                                                           latex_ascii  \\\n",
       "0  \\int _ { - \\epsilon } ^ { \\infty } d l \\: \\mathrm { e } ^ { - l \\zeta } \\int _ { - \\epsilon } ^ ...   \n",
       "\n",
       "                                                                                            padded_seq  padded_seq_len  seq_len  squashed_len  \\\n",
       "0  [173, 324, 353, 11, 154, 355, 323, 353, 172, 355, 330, 338, 63, 207, 353, 331, 355, 323, 353, 11...             151      113           113   \n",
       "\n",
       "                                                                                          squashed_seq  \n",
       "0  [173, 324, 353, 11, 154, 355, 323, 353, 172, 355, 330, 338, 63, 207, 353, 331, 355, 323, 353, 11...  "
      ]
     },
     "metadata": {},
     "output_type": "display_data"
    }
   ],
   "source": [
    "df_train_squashed = get_squashed(df_train_padded)\n",
    "assert sum(df_train_squashed.seq_len < df_train_squashed.squashed_len) == 0"
   ]
  },
  {
   "cell_type": "code",
   "execution_count": 23,
   "metadata": {},
   "outputs": [
    {
     "name": "stdout",
     "output_type": "stream",
     "text": [
      "(4648, 10)\n"
     ]
    },
    {
     "data": {
      "text/html": [
       "<div>\n",
       "<style>\n",
       "    .dataframe thead tr:only-child th {\n",
       "        text-align: right;\n",
       "    }\n",
       "\n",
       "    .dataframe thead th {\n",
       "        text-align: left;\n",
       "    }\n",
       "\n",
       "    .dataframe tbody tr th {\n",
       "        vertical-align: top;\n",
       "    }\n",
       "</style>\n",
       "<table border=\"1\" class=\"dataframe\">\n",
       "  <thead>\n",
       "    <tr style=\"text-align: right;\">\n",
       "      <th></th>\n",
       "      <th>image</th>\n",
       "      <th>height</th>\n",
       "      <th>width</th>\n",
       "      <th>word2id_len</th>\n",
       "      <th>bin_len</th>\n",
       "      <th>word2id</th>\n",
       "      <th>latex_ascii</th>\n",
       "      <th>padded_seq</th>\n",
       "      <th>padded_seq_len</th>\n",
       "      <th>seq_len</th>\n",
       "    </tr>\n",
       "  </thead>\n",
       "  <tbody>\n",
       "    <tr>\n",
       "      <th>11558</th>\n",
       "      <td>e3716c37ff8f7c4_basic.png</td>\n",
       "      <td>74</td>\n",
       "      <td>1074</td>\n",
       "      <td>145</td>\n",
       "      <td>151</td>\n",
       "      <td>[173, 330, 317, 324, 353, 16, 355, 323, 353, 6, 19, 7, 355, 330, 317, 324, 353, 16, 355, 323, 35...</td>\n",
       "      <td>\\int d \\xi _ { 0 } ^ { ( 3 ) } d \\xi _ { 0 } ^ { ( 2 ) } d \\xi _ { 0 } ^ { ( 1 ) } \\mathrm { T r...</td>\n",
       "      <td>[173, 330, 317, 324, 353, 16, 355, 323, 353, 6, 19, 7, 355, 330, 317, 324, 353, 16, 355, 323, 35...</td>\n",
       "      <td>151</td>\n",
       "      <td>146</td>\n",
       "    </tr>\n",
       "  </tbody>\n",
       "</table>\n",
       "</div>"
      ],
      "text/plain": [
       "                           image  height  width  word2id_len  bin_len  \\\n",
       "11558  e3716c37ff8f7c4_basic.png      74   1074          145      151   \n",
       "\n",
       "                                                                                                   word2id  \\\n",
       "11558  [173, 330, 317, 324, 353, 16, 355, 323, 353, 6, 19, 7, 355, 330, 317, 324, 353, 16, 355, 323, 35...   \n",
       "\n",
       "                                                                                               latex_ascii  \\\n",
       "11558  \\int d \\xi _ { 0 } ^ { ( 3 ) } d \\xi _ { 0 } ^ { ( 2 ) } d \\xi _ { 0 } ^ { ( 1 ) } \\mathrm { T r...   \n",
       "\n",
       "                                                                                                padded_seq  padded_seq_len  seq_len  \n",
       "11558  [173, 330, 317, 324, 353, 16, 355, 323, 353, 6, 19, 7, 355, 330, 317, 324, 353, 16, 355, 323, 35...             151      146  "
      ]
     },
     "metadata": {},
     "output_type": "display_data"
    }
   ],
   "source": [
    "df_test_padded = get_padded(df_test_adjusted)\n",
    "assert sum(df_test_padded.padded_seq_len != df_test_padded.bin_len) == 0\n",
    "assert sum(df_test_padded.word2id_len != (df_test_padded.seq_len-1)) == 0"
   ]
  },
  {
   "cell_type": "code",
   "execution_count": 24,
   "metadata": {},
   "outputs": [
    {
     "name": "stdout",
     "output_type": "stream",
     "text": [
      "(4648, 12)\n"
     ]
    },
    {
     "data": {
      "text/html": [
       "<div>\n",
       "<style>\n",
       "    .dataframe thead tr:only-child th {\n",
       "        text-align: right;\n",
       "    }\n",
       "\n",
       "    .dataframe thead th {\n",
       "        text-align: left;\n",
       "    }\n",
       "\n",
       "    .dataframe tbody tr th {\n",
       "        vertical-align: top;\n",
       "    }\n",
       "</style>\n",
       "<table border=\"1\" class=\"dataframe\">\n",
       "  <thead>\n",
       "    <tr style=\"text-align: right;\">\n",
       "      <th></th>\n",
       "      <th>image</th>\n",
       "      <th>height</th>\n",
       "      <th>width</th>\n",
       "      <th>word2id_len</th>\n",
       "      <th>bin_len</th>\n",
       "      <th>word2id</th>\n",
       "      <th>latex_ascii</th>\n",
       "      <th>padded_seq</th>\n",
       "      <th>padded_seq_len</th>\n",
       "      <th>seq_len</th>\n",
       "      <th>squashed_len</th>\n",
       "      <th>squashed_seq</th>\n",
       "    </tr>\n",
       "  </thead>\n",
       "  <tbody>\n",
       "    <tr>\n",
       "      <th>11558</th>\n",
       "      <td>e3716c37ff8f7c4_basic.png</td>\n",
       "      <td>74</td>\n",
       "      <td>1074</td>\n",
       "      <td>145</td>\n",
       "      <td>151</td>\n",
       "      <td>[173, 330, 317, 324, 353, 16, 355, 323, 353, 6, 19, 7, 355, 330, 317, 324, 353, 16, 355, 323, 35...</td>\n",
       "      <td>\\int d \\xi _ { 0 } ^ { ( 3 ) } d \\xi _ { 0 } ^ { ( 2 ) } d \\xi _ { 0 } ^ { ( 1 ) } \\mathrm { T r...</td>\n",
       "      <td>[173, 330, 317, 324, 353, 16, 355, 323, 353, 6, 19, 7, 355, 330, 317, 324, 353, 16, 355, 323, 35...</td>\n",
       "      <td>151</td>\n",
       "      <td>146</td>\n",
       "      <td>146</td>\n",
       "      <td>[173, 330, 317, 324, 353, 16, 355, 323, 353, 6, 19, 7, 355, 330, 317, 324, 353, 16, 355, 323, 35...</td>\n",
       "    </tr>\n",
       "  </tbody>\n",
       "</table>\n",
       "</div>"
      ],
      "text/plain": [
       "                           image  height  width  word2id_len  bin_len  \\\n",
       "11558  e3716c37ff8f7c4_basic.png      74   1074          145      151   \n",
       "\n",
       "                                                                                                   word2id  \\\n",
       "11558  [173, 330, 317, 324, 353, 16, 355, 323, 353, 6, 19, 7, 355, 330, 317, 324, 353, 16, 355, 323, 35...   \n",
       "\n",
       "                                                                                               latex_ascii  \\\n",
       "11558  \\int d \\xi _ { 0 } ^ { ( 3 ) } d \\xi _ { 0 } ^ { ( 2 ) } d \\xi _ { 0 } ^ { ( 1 ) } \\mathrm { T r...   \n",
       "\n",
       "                                                                                                padded_seq  padded_seq_len  seq_len  squashed_len  \\\n",
       "11558  [173, 330, 317, 324, 353, 16, 355, 323, 353, 6, 19, 7, 355, 330, 317, 324, 353, 16, 355, 323, 35...             151      146           146   \n",
       "\n",
       "                                                                                              squashed_seq  \n",
       "11558  [173, 330, 317, 324, 353, 16, 355, 323, 353, 6, 19, 7, 355, 330, 317, 324, 353, 16, 355, 323, 35...  "
      ]
     },
     "metadata": {},
     "output_type": "display_data"
    }
   ],
   "source": [
    "df_test_squashed = get_squashed(df_test_padded)\n",
    "assert sum(df_test_squashed.seq_len < df_test_squashed.squashed_len) == 0"
   ]
  },
  {
   "cell_type": "code",
   "execution_count": 25,
   "metadata": {},
   "outputs": [
    {
     "data": {
      "text/plain": [
       "(13552,)"
      ]
     },
     "execution_count": 25,
     "metadata": {},
     "output_type": "execute_result"
    }
   ],
   "source": [
    "df_train_squashed.seq_len[df_train_padded.bin_len == 31].values.shape\n",
    "## (6144,)"
   ]
  },
  {
   "cell_type": "code",
   "execution_count": 26,
   "metadata": {
    "collapsed": true
   },
   "outputs": [],
   "source": [
    "## Since we do not have a whitespace token the squashed and sequence lengths should be the same\n",
    "assert df_train_squashed.seq_len.equals(df_train_squashed.squashed_len)\n",
    "assert df_test_squashed.seq_len.equals(df_test_squashed.squashed_len)"
   ]
  },
  {
   "cell_type": "code",
   "execution_count": 27,
   "metadata": {
    "collapsed": true,
    "scrolled": true
   },
   "outputs": [],
   "source": [
    "def make_seq_bins(df_):\n",
    "    \"\"\"\n",
    "    Creates ndarrays of (padded) sequence bins from df_train_padded \n",
    "    and pickles them as a dictionary of ndarrays wrapped in dataframes.\n",
    "    This preprocessing is needed in order to quickly obtain an ndarray of\n",
    "    token-sequences at training time.\n",
    "    \"\"\"\n",
    "    bin_lens = df_.bin_len.unique()\n",
    "    bins = {}\n",
    "    bins_squashed = {}\n",
    "    \n",
    "    for len_ in bin_lens:\n",
    "        df_slice = df_[df_.padded_seq_len == len_]\n",
    "        bin_ = np.array(df_slice.padded_seq.values.tolist(), dtype=np.int32)\n",
    "        bin_squashed = np.array(df_slice.squashed_seq.values.tolist(), dtype=np.int32)\n",
    "        assert bin_.shape[1] == len_\n",
    "        assert bin_.shape[0] == df_slice.shape[0]\n",
    "        bins[len_] = pd.DataFrame(bin_, index=df_slice.index)\n",
    "        bins_squashed[len_] = pd.DataFrame(bin_squashed, index=df_slice.index)\n",
    "    return bins, bins_squashed"
   ]
  },
  {
   "cell_type": "code",
   "execution_count": 28,
   "metadata": {
    "collapsed": true
   },
   "outputs": [],
   "source": [
    "bins_train, bins_sq_train = make_seq_bins(df_train_squashed)\n",
    "bins_test, bins_sq_test = make_seq_bins(df_test_squashed)"
   ]
  },
  {
   "cell_type": "code",
   "execution_count": 29,
   "metadata": {
    "collapsed": true
   },
   "outputs": [],
   "source": [
    "def check(bins, ser):\n",
    "    ## check that the two file contents match.\n",
    "    for bin_ in bins.keys():\n",
    "        print ('checking bin %d'%(bin_,))\n",
    "        for loc_ in bins[bin_].index.values:\n",
    "            ## print ('checking bin %d and loc %d'%(bin_,loc_))\n",
    "            try:\n",
    "                bin_seq = bins[bin_].loc[loc_]\n",
    "                assert sum(bin_seq.values != ser[loc_]) == 0\n",
    "            except:\n",
    "#                 if isinstance(bin_seq, pd.DataFrame):\n",
    "#                     # loc_ is duplicated owing to rounding up of df_train\n",
    "#                     # bin_seq is a DataFrame and ser[loc_] is a slice of the Series ser\n",
    "#                     ser_items = ser[loc_] # Series\n",
    "#                     try:\n",
    "#                         assert ser_items.shape[0] == bin_seq.shape[0]\n",
    "#                         assert sum(bin_seq.iloc[0].values != ser_items.iloc[0]) == 0\n",
    "#                     except:\n",
    "#                         print('Assertion failed at bin %d and loc %d'%(bin_,loc_))\n",
    "#                         raise\n",
    "#                 else:\n",
    "                print('Assertion failed at bin %d and loc %d'%(bin_,loc_))\n",
    "                raise"
   ]
  },
  {
   "cell_type": "code",
   "execution_count": 30,
   "metadata": {},
   "outputs": [
    {
     "name": "stdout",
     "output_type": "stream",
     "text": [
      "checking bin 71\n",
      "checking bin 41\n",
      "checking bin 111\n",
      "checking bin 81\n",
      "checking bin 51\n",
      "checking bin 151\n",
      "checking bin 91\n",
      "checking bin 61\n",
      "checking bin 31\n",
      "checking bin 71\n",
      "checking bin 41\n",
      "checking bin 111\n",
      "checking bin 81\n",
      "checking bin 51\n",
      "checking bin 151\n",
      "checking bin 91\n",
      "checking bin 61\n",
      "checking bin 31\n",
      "all good !\n"
     ]
    }
   ],
   "source": [
    "check(bins_test, df_test_squashed.padded_seq)\n",
    "check(bins_train, df_train_squashed.padded_seq)\n",
    "print(\"all good !\")"
   ]
  },
  {
   "cell_type": "markdown",
   "metadata": {},
   "source": [
    "### Persist to Disk"
   ]
  },
  {
   "cell_type": "code",
   "execution_count": 31,
   "metadata": {
    "collapsed": true
   },
   "outputs": [],
   "source": [
    "if dump:\n",
    "    if not os.path.exists(raw_data_dir):\n",
    "        os.makedirs(raw_data_dir)\n",
    "    with open(os.path.join(raw_data_dir, 'batch_size.pkl'), 'wb') as f:\n",
    "      pickle.dump(HYPER_batch_size, f, pickle.HIGHEST_PROTOCOL)\n",
    "    with open(os.path.join(raw_data_dir, 'batch_size.pkl'), 'rb') as f:\n",
    "        assert pickle.load(f) == HYPER_batch_size\n",
    "        \n",
    "    df_train_squashed.to_pickle(os.path.join(raw_data_dir, 'df_train.pkl'))\n",
    "    df_test_squashed.to_pickle(os.path.join(raw_data_dir, 'df_test.pkl'))\n",
    "    \n",
    "    \n",
    "    with open(os.path.join(raw_data_dir, 'raw_seq_train.pkl'), 'wb') as f:\n",
    "      pickle.dump(bins_train, f, pickle.HIGHEST_PROTOCOL)\n",
    "    with open(os.path.join(raw_data_dir, 'raw_seq_sq_train.pkl'), 'wb') as f:\n",
    "      pickle.dump(bins_sq_train, f, pickle.HIGHEST_PROTOCOL)\n",
    "\n",
    "    with open(os.path.join(raw_data_dir, 'raw_seq_test.pkl'), 'wb') as f:\n",
    "      pickle.dump(bins_test, f, pickle.HIGHEST_PROTOCOL)\n",
    "    with open(os.path.join(raw_data_dir, 'raw_seq_sq_test.pkl'), 'wb') as f:\n",
    "      pickle.dump(bins_sq_test, f, pickle.HIGHEST_PROTOCOL)\n",
    "    \n",
    "    data_props = {}\n",
    "    dict_vocab = pd.read_pickle(os.path.join(data_dir, 'step2', 'dict_vocab.pkl'))\n",
    "    word2id = dict_vocab['id']\n",
    "    id2word = pd.read_pickle(os.path.join(data_dir, 'step2', 'dict_id2word.pkl'))\n",
    "    data_props['id2word'] = id2word\n",
    "    data_props['word2id'] = word2id\n",
    "    data_props['K'] = max(id2word.keys()) + 1\n",
    "    data_props['SpaceTokenID'] = word2id[' '] if ' ' in word2id else None\n",
    "    data_props['NullTokenID'] = word2id[r'\\eos']\n",
    "    data_props['StartTokenID'] = word2id[r'\\bos']\n",
    "    data_props['MaxSeqLen'] = df_train_squashed.padded_seq_len.max()\n",
    "    padded_image_dim = pd.read_pickle(os.path.join(data_dir, 'step3', 'padded_image_dim.pkl'))\n",
    "    data_props['padded_image_dim'] = {'height': padded_image_dim['height'], 'width':padded_image_dim['width']}\n",
    "    with open(os.path.join(raw_data_dir, 'data_props.pkl'), 'wb') as f:\n",
    "        pickle.dump(data_props, f, pickle.HIGHEST_PROTOCOL)"
   ]
  },
  {
   "cell_type": "markdown",
   "metadata": {},
   "source": [
    "# END"
   ]
  },
  {
   "cell_type": "code",
   "execution_count": null,
   "metadata": {
    "collapsed": true
   },
   "outputs": [],
   "source": []
  }
 ],
 "metadata": {
  "anaconda-cloud": {},
  "colab": {
   "default_view": {},
   "name": "1_notmnist.ipynb",
   "provenance": [],
   "version": "0.3.2",
   "views": {}
  },
  "kernelspec": {
   "display_name": "Python 2",
   "language": "python",
   "name": "python2"
  },
  "language_info": {
   "codemirror_mode": {
    "name": "ipython",
    "version": 2
   },
   "file_extension": ".py",
   "mimetype": "text/x-python",
   "name": "python",
   "nbconvert_exporter": "python",
   "pygments_lexer": "ipython2",
   "version": "2.7.14"
  }
 },
 "nbformat": 4,
 "nbformat_minor": 2
}
